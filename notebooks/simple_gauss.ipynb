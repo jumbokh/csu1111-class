{
  "cells": [
    {
      "cell_type": "code",
      "execution_count": null,
      "metadata": {
        "id": "wBdNXr-Po95J"
      },
      "outputs": [],
      "source": [
        "def linearsolver(A,b):\n",
        "  n = len(A)\n",
        "  M = A\n",
        "\n",
        "  i = 0\n",
        "  for x in M:\n",
        "   x.append(b[i])\n",
        "   i += 1\n",
        "\n",
        "  for k in range(n):\n",
        "   for i in range(k,n):\n",
        "     if abs(M[i][k]) > abs(M[k][k]):\n",
        "        M[k], M[i] = M[i],M[k]\n",
        "     else:\n",
        "        pass\n",
        "\n",
        "   for j in range(k+1,n):\n",
        "       q = float(M[j][k]) / M[k][k]\n",
        "       for m in range(k, n+1):\n",
        "          M[j][m] -=  q * M[k][m]\n",
        "\n",
        "  x = [0 for i in range(n)]\n",
        "\n",
        "  x[n-1] =float(M[n-1][n])/M[n-1][n-1]\n",
        "  for i in range (n-1,-1,-1):\n",
        "    z = 0\n",
        "    for j in range(i+1,n):\n",
        "        z = z  + float(M[i][j])*x[j]\n",
        "    x[i] = float(M[i][n] - z)/M[i][i]\n",
        "  print (x)"
      ]
    },
    {
      "cell_type": "code",
      "execution_count": null,
      "metadata": {
        "id": "gQ47ag3Lo95N"
      },
      "outputs": [],
      "source": [
        "from gauss_jordan import *"
      ]
    },
    {
      "cell_type": "code",
      "execution_count": null,
      "metadata": {
        "id": "wB97RIDJo95O"
      },
      "outputs": [],
      "source": [
        "A = [[3, 2, -4], [2, 3, 3], [5, -3, 1]]\n",
        "b = [3, 15, 14]"
      ]
    },
    {
      "cell_type": "code",
      "execution_count": null,
      "metadata": {
        "id": "AYUzAfcDo95P",
        "outputId": "31eba70f-65c5-44c3-df52-1ea9e707cd15"
      },
      "outputs": [
        {
          "name": "stdout",
          "output_type": "stream",
          "text": [
            "[2.9999999999999996, 0.9999999999999996, 2.0]\n"
          ]
        }
      ],
      "source": [
        "linearsolver(A,b)"
      ]
    },
    {
      "cell_type": "code",
      "execution_count": null,
      "metadata": {
        "id": "H1du8jhuo95Q"
      },
      "outputs": [],
      "source": [
        "A = [[3,-1,2],[1,1,2],[2,-2,-1]]\n",
        "b = [7,9,-5]"
      ]
    },
    {
      "cell_type": "code",
      "execution_count": null,
      "metadata": {
        "id": "XC63Pvaso95R",
        "outputId": "4f0a807c-9f69-4881-deec-591d2dc7c172"
      },
      "outputs": [
        {
          "name": "stdout",
          "output_type": "stream",
          "text": [
            "[1.0, 2.0, 3.0]\n"
          ]
        }
      ],
      "source": [
        "linearsolver(A,b)"
      ]
    },
    {
      "cell_type": "code",
      "execution_count": null,
      "metadata": {
        "id": "4ydnAkfBo95R"
      },
      "outputs": [],
      "source": []
    }
  ],
  "metadata": {
    "kernelspec": {
      "display_name": "Python 3",
      "language": "python",
      "name": "python3"
    },
    "language_info": {
      "codemirror_mode": {
        "name": "ipython",
        "version": 3
      },
      "file_extension": ".py",
      "mimetype": "text/x-python",
      "name": "python",
      "nbconvert_exporter": "python",
      "pygments_lexer": "ipython3",
      "version": "3.5.3"
    },
    "colab": {
      "provenance": []
    }
  },
  "nbformat": 4,
  "nbformat_minor": 0
}