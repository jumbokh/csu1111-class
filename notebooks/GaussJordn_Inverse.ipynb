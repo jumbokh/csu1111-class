{
  "nbformat": 4,
  "nbformat_minor": 0,
  "metadata": {
    "colab": {
      "provenance": [],
      "authorship_tag": "ABX9TyMqRd1xZO+/SM79VvADMzBM",
      "include_colab_link": true
    },
    "kernelspec": {
      "name": "python3",
      "display_name": "Python 3"
    },
    "language_info": {
      "name": "python"
    }
  },
  "cells": [
    {
      "cell_type": "markdown",
      "metadata": {
        "id": "view-in-github",
        "colab_type": "text"
      },
      "source": [
        "<a href=\"https://colab.research.google.com/github/jumbokh/csu1111-class/blob/main/notebooks/GaussJordn_Inverse.ipynb\" target=\"_parent\"><img src=\"https://colab.research.google.com/assets/colab-badge.svg\" alt=\"Open In Colab\"/></a>"
      ]
    },
    {
      "cell_type": "code",
      "execution_count": null,
      "metadata": {
        "id": "FfZohkZgnDxn"
      },
      "outputs": [],
      "source": [
        "__author__ = 'Florian Cassayre'\n",
        "\n",
        "from copy import copy, deepcopy\n",
        "\n",
        "\n",
        "def inverse(toInverse):\n",
        "    size = len(toInverse)\n",
        "\n",
        "    matrix = [[0 for j in range(size * 2)] for i in range(size)] # Matrix n x 2n\n",
        "\n",
        "    for i in range(size): # We copy the matrix to reverse\n",
        "        for j in range(size):\n",
        "            matrix[i][j] = toInverse[i][j]\n",
        "\n",
        "    for i in range(size): # We add the identity matrix\n",
        "        matrix[i][i + size] = 1\n",
        "\n",
        "    matrix = gaussJordanElimination(matrix) # We stagger\n",
        "\n",
        "    if isZero(matrix[size - 1][size - 1]):\n",
        "        return None\n",
        "\n",
        "    inverted = [[0 for j in range(size)] for i in range(size)]\n",
        "    for i in range(size): # We recover our inverse\n",
        "        for j in range(size):\n",
        "            inverted[i][j] = matrix[i][j + size]\n",
        "\n",
        "    return inverted"
      ]
    },
    {
      "cell_type": "code",
      "source": [
        "def gaussJordanElimination(matrix):\n",
        "    lines = len(matrix)\n",
        "    columns = len(matrix[0])\n",
        "\n",
        "    copy = deepcopy(matrix) # Copy the matrix to avoid changing the original\n",
        "\n",
        "    r = -1\n",
        "\n",
        "    for j in range(columns):\n",
        "\n",
        "        k = r + 1\n",
        "\n",
        "        for i in range(r + 1, lines): # Find the maximum value of the column\n",
        "            if(not isZero(copy[i][j])):\n",
        "                k = i\n",
        "        if(k >= lines): # We go out as soon as we have done all the lines\n",
        "            break\n",
        "\n",
        "        if(not isZero(copy[k][j])):\n",
        "            r += 1\n",
        "            pivotDivider = copy[k][j]\n",
        "            for j1 in range(columns): # Division of the line\n",
        "                copy[k][j1] = copy[k][j1] / pivotDivider\n",
        "\n",
        "            tempLine = copy[k] # Exchange of two lines in three stages\n",
        "            copy[k] = copy[r]\n",
        "            copy[r] = tempLine\n",
        "\n",
        "            for i in range(lines): # Reduction of other lines\n",
        "                lineDivider = copy[i][j]\n",
        "                if(i != r):\n",
        "                    for j1 in range(columns):\n",
        "                        copy[i][j1] -= copy[r][j1] * lineDivider\n",
        "\n",
        "    return copy"
      ],
      "metadata": {
        "id": "wha7buIxnRun"
      },
      "execution_count": null,
      "outputs": []
    },
    {
      "cell_type": "code",
      "source": [
        "def isZero(number):\n",
        "    return abs(number) < 1E-10"
      ],
      "metadata": {
        "id": "09OKksnznWRQ"
      },
      "execution_count": null,
      "outputs": []
    },
    {
      "cell_type": "code",
      "source": [
        "# Tests\n",
        "\n",
        "size = 3\n",
        "\n",
        "# We want to invert the following matrix:\n",
        "\n",
        "toInverse = [[0 for j in range(size)] for i in range(size)]\n",
        "toInverse[0] = [3, -1,2]\n",
        "toInverse[1] = [1, 1, 2]\n",
        "toInverse[2] = [2, -2, -1]"
      ],
      "metadata": {
        "id": "LgF5MI-6naKb"
      },
      "execution_count": null,
      "outputs": []
    },
    {
      "cell_type": "code",
      "source": [
        "print(inverse(toInverse)) # \"None\" because the matrix is not invertible!"
      ],
      "metadata": {
        "colab": {
          "base_uri": "https://localhost:8080/"
        },
        "id": "BGPkiwwxnfoC",
        "outputId": "0ed1fa31-c5c2-4247-8354-aed7b1505012"
      },
      "execution_count": null,
      "outputs": [
        {
          "output_type": "stream",
          "name": "stdout",
          "text": [
            "[[-0.75, 1.25, 1.0], [-1.25, 1.75, 1.0], [1.0, -1.0, -1.0]]\n"
          ]
        }
      ]
    }
  ]
}