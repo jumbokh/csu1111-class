{
 "cells": [
  {
   "cell_type": "markdown",
   "metadata": {},
   "source": [
    "# 以 NumPy 解下列聯立方程式\n",
    "\n",
    "## 例1\n",
    "$\\begin{equation}x + y = 16 \\end{equation}$\n",
    "\n",
    "$\\begin{equation}10x + 25y = 250 \\end{equation}$"
   ]
  },
  {
   "cell_type": "code",
   "execution_count": 6,
   "metadata": {},
   "outputs": [
    {
     "name": "stdout",
     "output_type": "stream",
     "text": [
      "A=\n",
      "[[ 1  1]\n",
      " [10 25]]\n",
      "\n",
      "B=\n",
      "[[ 16]\n",
      " [250]]\n",
      "\n",
      "線性代數求解：\n",
      "[10.  6.]\n"
     ]
    }
   ],
   "source": [
    "# x+y=16\n",
    "# 10x+25y=250\n",
    "\n",
    "# 載入套件\n",
    "import numpy as np\n",
    "\n",
    "# 定義方程式的 A、B\n",
    "A = np.array([[1 , 1], [10, 25]])\n",
    "B = np.array([16, 250])\n",
    "print('A=')\n",
    "print(A)\n",
    "print('')\n",
    "print('B=')\n",
    "print(B.reshape(2, 1))\n",
    "\n",
    "# np.linalg.solve：線性代數求解\n",
    "print('\\n線性代數求解：')\n",
    "print(np.linalg.inv(A) @ B)"
   ]
  },
  {
   "cell_type": "code",
   "execution_count": 7,
   "metadata": {
    "scrolled": true
   },
   "outputs": [
    {
     "name": "stdout",
     "output_type": "stream",
     "text": [
      "[10.  6.]\n"
     ]
    }
   ],
   "source": [
    "print(np.linalg.solve(A, B))"
   ]
  },
  {
   "cell_type": "markdown",
   "metadata": {},
   "source": [
    "## 畫圖求解"
   ]
  },
  {
   "cell_type": "code",
   "execution_count": 14,
   "metadata": {},
   "outputs": [
    {
     "data": {
      "image/png": "[encoded data removed]",
      "text/plain": [
       "<Figure size 432x288 with 1 Axes>"
      ]
     },
     "metadata": {
      "needs_background": "light"
     },
     "output_type": "display_data"
    }
   ],
   "source": [
    "# x+y=16\n",
    "# 10x+25y=250\n",
    "\n",
    "# 載入套件\n",
    "import numpy as np\n",
    "from matplotlib import pyplot as plt\n",
    "\n",
    "# 取第一個方程式的兩端點\n",
    "A1 = [16, 0]\n",
    "A2 = [0, 16]\n",
    "\n",
    "# 取第二個方程式的兩端點\n",
    "B1 = [25,0]\n",
    "B2 = [0,10]\n",
    "\n",
    "# 畫線\n",
    "plt.plot(A1,A2, color='blue')\n",
    "plt.plot(B1, B2, color=\"orange\")\n",
    "plt.xlabel('x')\n",
    "plt.ylabel('y')\n",
    "plt.grid()\n",
    "\n",
    "# 交叉點 (10, 6)\n",
    "plt.scatter([10], [6], color=\"red\", s=100)\n",
    "plt.show()"
   ]
  },
  {
   "cell_type": "markdown",
   "metadata": {},
   "source": [
    "## 例2\n",
    "\n",
    "$\\begin{equation}-1x + 3y = -72 \\end{equation}$\n",
    "\n",
    "$\\begin{equation}3x + 4y - 4z = -4 \\end{equation}$\n",
    "\n",
    "$\\begin{equation}-20x - 12y + 5z = -50 \\end{equation}$\n"
   ]
  },
  {
   "cell_type": "code",
   "execution_count": 5,
   "metadata": {},
   "outputs": [
    {
     "name": "stdout",
     "output_type": "stream",
     "text": [
      "A=\n",
      "[[ -1   3   0]\n",
      " [  3   4  -4]\n",
      " [-20 -12   5]]\n",
      "\n",
      "B=\n",
      "[[-72]\n",
      " [ -4]\n",
      " [-50]]\n",
      "\n",
      "線性代數求解：\n",
      "[ 12. -20. -10.]\n"
     ]
    }
   ],
   "source": [
    "# 載入套件\n",
    "import numpy as np\n",
    "\n",
    "# 定義方程式的 A、B\n",
    "A = np.array([[-1, 3, 0], [3, 4, -4], [-20, -12, 5]])\n",
    "B = np.array([-72, -4, -50])\n",
    "print('A=')\n",
    "print(A)\n",
    "print('')\n",
    "print('B=')\n",
    "print(B.reshape(3, 1))\n",
    "\n",
    "# np.linalg.solve：線性代數求解\n",
    "print('\\n線性代數求解：')\n",
    "print(np.linalg.solve(A, B))"
   ]
  },
  {
   "cell_type": "markdown",
   "metadata": {},
   "source": [
    "## 以 sympy 求解"
   ]
  },
  {
   "cell_type": "code",
   "execution_count": 5,
   "metadata": {},
   "outputs": [
    {
     "data": {
      "text/plain": [
       "dict_keys([x, y, z])"
      ]
     },
     "execution_count": 5,
     "metadata": {},
     "output_type": "execute_result"
    }
   ],
   "source": [
    "from sympy.solvers import solve\n",
    "from sympy import symbols\n",
    "\n",
    "# 設定變數\n",
    "x, y, z = symbols('x y z')\n",
    "\n",
    "# 解題：設定聯立方程式，等號右邊預設為 0\n",
    "solve([-1*x + 3*y + 72, 3*x + 4*y - 4*z + 4,-20*x + -12*y + 5*z + 50])"
   ]
  },
  {
   "cell_type": "code",
   "execution_count": 6,
   "metadata": {},
   "outputs": [
    {
     "data": {
      "text/plain": [
       "{x: 12, y: -20, z: -10}"
      ]
     },
     "execution_count": 6,
     "metadata": {},
     "output_type": "execute_result"
    }
   ],
   "source": [
    "dict1=solve([-1*x + 3*y + 72, 3*x + 4*y - 4*z + 4,-20*x + -12*y + 5*z + 50])\n",
    "dict1"
   ]
  },
  {
   "cell_type": "code",
   "execution_count": 7,
   "metadata": {},
   "outputs": [
    {
     "data": {
      "text/latex": [
       "$\\displaystyle 12$"
      ],
      "text/plain": [
       "12"
      ]
     },
     "execution_count": 7,
     "metadata": {},
     "output_type": "execute_result"
    }
   ],
   "source": [
    "dict1[x]"
   ]
  },
  {
   "cell_type": "code",
   "execution_count": null,
   "metadata": {},
   "outputs": [],
   "source": []
  }
 ],
 "metadata": {
  "kernelspec": {
   "display_name": "Python 3",
   "language": "python",
   "name": "python3"
  },
  "language_info": {
   "codemirror_mode": {
    "name": "ipython",
    "version": 3
   },
   "file_extension": ".py",
   "mimetype": "text/x-python",
   "name": "python",
   "nbconvert_exporter": "python",
   "pygments_lexer": "ipython3",
   "version": "3.8.3"
  }
 },
 "nbformat": 4,
 "nbformat_minor": 4
}
