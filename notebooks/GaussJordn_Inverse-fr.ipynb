{
  "nbformat": 4,
  "nbformat_minor": 0,
  "metadata": {
    "colab": {
      "provenance": [],
      "authorship_tag": "ABX9TyOuLFMZiKC39D1Onbu3D92F",
      "include_colab_link": true
    },
    "kernelspec": {
      "name": "python3",
      "display_name": "Python 3"
    },
    "language_info": {
      "name": "python"
    }
  },
  "cells": [
    {
      "cell_type": "markdown",
      "metadata": {
        "id": "view-in-github",
        "colab_type": "text"
      },
      "source": [
        "<a href=\"https://colab.research.google.com/github/jumbokh/csu1111-class/blob/main/notebooks/GaussJordn_Inverse-fr.ipynb\" target=\"_parent\"><img src=\"https://colab.research.google.com/assets/colab-badge.svg\" alt=\"Open In Colab\"/></a>"
      ]
    },
    {
      "cell_type": "code",
      "execution_count": 7,
      "metadata": {
        "id": "FfZohkZgnDxn"
      },
      "outputs": [],
      "source": [
        "__author__ = 'Florian Cassayre'\n",
        "\n",
        "from copy import copy, deepcopy\n",
        "\n",
        "\n",
        "def inverse(toInverse):\n",
        "    size = len(toInverse)\n",
        "\n",
        "    matrix = [[0 for j in range(size * 2)] for i in range(size)] # Matrix n x 2n\n",
        "\n",
        "    for i in range(size): # We copy the matrix to reverse\n",
        "        for j in range(size):\n",
        "            matrix[i][j] = toInverse[i][j]\n",
        "\n",
        "    for i in range(size): # We add the identity matrix\n",
        "        matrix[i][i + size] = 1\n",
        "\n",
        "    matrix = gaussJordanElimination(matrix) # We stagger\n",
        "\n",
        "    if isZero(matrix[size - 1][size - 1]):\n",
        "        return None\n",
        "\n",
        "    inverted = [[0 for j in range(size)] for i in range(size)]\n",
        "    for i in range(size): # We recover our inverse\n",
        "        for j in range(size):\n",
        "            inverted[i][j] = matrix[i][j + size]\n",
        "\n",
        "    return inverted"
      ]
    },
    {
      "cell_type": "code",
      "source": [
        "def gaussJordanElimination(matrix):\n",
        "    lines = len(matrix)\n",
        "    columns = len(matrix[0])\n",
        "\n",
        "    copy = deepcopy(matrix) # Copy the matrix to avoid changing the original\n",
        "\n",
        "    r = -1\n",
        "\n",
        "    for j in range(columns):\n",
        "\n",
        "        k = r + 1\n",
        "\n",
        "        for i in range(r + 1, lines): # Find the maximum value of the column\n",
        "            if(not isZero(copy[i][j])):\n",
        "                k = i\n",
        "        if(k >= lines): # We go out as soon as we have done all the lines\n",
        "            break\n",
        "\n",
        "        if(not isZero(copy[k][j])):\n",
        "            r += 1\n",
        "            pivotDivider = copy[k][j]\n",
        "            for j1 in range(columns): # Division of the line\n",
        "                copy[k][j1] = copy[k][j1] / pivotDivider\n",
        "\n",
        "            tempLine = copy[k] # Exchange of two lines in three stages\n",
        "            copy[k] = copy[r]\n",
        "            copy[r] = tempLine\n",
        "\n",
        "            for i in range(lines): # Reduction of other lines\n",
        "                lineDivider = copy[i][j]\n",
        "                if(i != r):\n",
        "                    for j1 in range(columns):\n",
        "                        copy[i][j1] -= copy[r][j1] * lineDivider\n",
        "\n",
        "    return copy"
      ],
      "metadata": {
        "id": "wha7buIxnRun"
      },
      "execution_count": 8,
      "outputs": []
    },
    {
      "cell_type": "code",
      "source": [
        "def isZero(number):\n",
        "    return abs(number) < 1E-10"
      ],
      "metadata": {
        "id": "09OKksnznWRQ"
      },
      "execution_count": 9,
      "outputs": []
    },
    {
      "cell_type": "code",
      "source": [
        "# Tests\n",
        "\n",
        "size = 3\n",
        "\n",
        "# We want to invert the following matrix:\n",
        "\n",
        "toInverse = [[0 for j in range(size)] for i in range(size)]\n",
        "toInverse[0] = [3, -1,2]\n",
        "toInverse[1] = [1, 1, 2]\n",
        "toInverse[2] = [2, -2, -1]"
      ],
      "metadata": {
        "id": "LgF5MI-6naKb"
      },
      "execution_count": 10,
      "outputs": []
    },
    {
      "cell_type": "code",
      "source": [
        "print(inverse(toInverse)) # \"None\" because the matrix is not invertible!"
      ],
      "metadata": {
        "colab": {
          "base_uri": "https://localhost:8080/"
        },
        "id": "BGPkiwwxnfoC",
        "outputId": "bba52191-b01c-4ae9-912b-42096fe033fe"
      },
      "execution_count": 11,
      "outputs": [
        {
          "output_type": "stream",
          "name": "stdout",
          "text": [
            "[[-0.75, 1.25, 1.0], [-1.25, 1.75, 1.0], [1.0, -1.0, -1.0]]\n"
          ]
        }
      ]
    },
    {
      "cell_type": "code",
      "source": [
        "from inverse_fr import *\n",
        "from ppmat import *"
      ],
      "metadata": {
        "id": "fOrq_dCJxehQ"
      },
      "execution_count": 12,
      "outputs": []
    },
    {
      "cell_type": "code",
      "source": [
        "size = 3\n",
        "\n",
        "# We want to invert the following matrix:\n",
        "\n",
        "toInverse = [[0 for j in range(size)] for i in range(size)]\n",
        "toInverse[0] = [3, -1, 2]\n",
        "toInverse[1] = [1, 1, 2]\n",
        "toInverse[2] = [3, -2, -1]\n",
        "matrix = toInverse.copy()\n",
        "#print(inverse(toInverse)) # \"None\" because the matrix is not invertible!\n",
        "final = inverse_fr(toInverse)\n",
        "print(\"--------------------------\")\n",
        "ppmat(final)"
      ],
      "metadata": {
        "colab": {
          "base_uri": "https://localhost:8080/"
        },
        "id": "Pt2RUIvbxfsE",
        "outputId": "6c83fd79-362c-44ed-cc03-2395e418b036"
      },
      "execution_count": 13,
      "outputs": [
        {
          "output_type": "stream",
          "name": "stdout",
          "text": [
            "\n",
            "    3   ,    -1   ,     2   ,     1   ,     0   ,     0   \n",
            "    1   ,     1   ,     2   ,     0   ,     1   ,     0   \n",
            "    3   ,    -2   ,    -1   ,     0   ,     0   ,     1   \n",
            "\n",
            "    1   ,  -2/3   ,  -1/3   ,     0   ,     0   ,   1/3   \n",
            "    1   ,     1   ,     2   ,     0   ,     1   ,     0   \n",
            "    3   ,    -1   ,     2   ,     1   ,     0   ,     0   \n",
            "\n",
            "    1   ,  -2/3   ,  -1/3   ,     0   ,     0   ,   1/3   \n",
            "    1   ,     1   ,     2   ,     0   ,     1   ,     0   \n",
            "    3   ,    -1   ,     2   ,     1   ,     0   ,     0   \n",
            "\n",
            "    1   ,  -2/3   ,  -1/3   ,     0   ,     0   ,   1/3   \n",
            "    0   ,   5/3   ,   7/3   ,     0   ,     1   ,  -1/3   \n",
            "    3   ,    -1   ,     2   ,     1   ,     0   ,     0   \n",
            "\n",
            "    1   ,  -2/3   ,  -1/3   ,     0   ,     0   ,   1/3   \n",
            "    0   ,     1   ,     3   ,     1   ,     0   ,    -1   \n",
            "    0   ,   5/3   ,   7/3   ,     0   ,     1   ,  -1/3   \n",
            "\n",
            "    1   ,     0   ,   5/3   ,   2/3   ,     0   ,  -1/3   \n",
            "    0   ,     1   ,     3   ,     1   ,     0   ,    -1   \n",
            "    0   ,   5/3   ,   7/3   ,     0   ,     1   ,  -1/3   \n",
            "\n",
            "    1   ,     0   ,   5/3   ,   2/3   ,     0   ,  -1/3   \n",
            "    0   ,     1   ,     3   ,     1   ,     0   ,    -1   \n",
            "    0   ,   5/3   ,   7/3   ,     0   ,     1   ,  -1/3   \n",
            "\n",
            "    1   ,     0   ,   5/3   ,   2/3   ,     0   ,  -1/3   \n",
            "    0   ,     1   ,     3   ,     1   ,     0   ,    -1   \n",
            "    0   ,     0   ,     1   ,   5/8   ,  -3/8   ,  -1/2   \n",
            "\n",
            "    1   ,     0   ,     0   ,  -3/8   ,   5/8   ,   1/2   \n",
            "    0   ,     1   ,     3   ,     1   ,     0   ,    -1   \n",
            "    0   ,     0   ,     1   ,   5/8   ,  -3/8   ,  -1/2   \n",
            "\n",
            "    1   ,     0   ,     0   ,  -3/8   ,   5/8   ,   1/2   \n",
            "    0   ,     1   ,     0   ,  -7/8   ,   9/8   ,   1/2   \n",
            "    0   ,     0   ,     1   ,   5/8   ,  -3/8   ,  -1/2   \n",
            "\n",
            "    1   ,     0   ,     0   ,  -3/8   ,   5/8   ,   1/2   \n",
            "    0   ,     1   ,     0   ,  -7/8   ,   9/8   ,   1/2   \n",
            "    0   ,     0   ,     1   ,   5/8   ,  -3/8   ,  -1/2   \n",
            "--------------------------\n",
            "\n",
            " -3/8   ,   5/8   ,   1/2   \n",
            " -7/8   ,   9/8   ,   1/2   \n",
            "  5/8   ,  -3/8   ,  -1/2   \n"
          ]
        }
      ]
    },
    {
      "cell_type": "code",
      "source": [
        "size = 3\n",
        "\n",
        "# We want to invert the following matrix:\n",
        "\n",
        "toInverse = [[0 for j in range(size)] for i in range(size)]\n",
        "toInverse[0] = [2, 1, -1]\n",
        "toInverse[1] = [1, -3, 1]\n",
        "toInverse[2] = [1, 3, -3]\n",
        "matrix = toInverse.copy()\n",
        "#print(inverse(toInverse)) # \"None\" because the matrix is not invertible!\n",
        "final = inverse_fr(toInverse)\n",
        "print(\"--------------------------\")\n",
        "ppmat(final)"
      ],
      "metadata": {
        "colab": {
          "base_uri": "https://localhost:8080/"
        },
        "id": "5FsAakFtyJ3-",
        "outputId": "4723359f-fde4-4a25-e7e8-e6db4f283c2e"
      },
      "execution_count": 14,
      "outputs": [
        {
          "output_type": "stream",
          "name": "stdout",
          "text": [
            "\n",
            "    2   ,     1   ,    -1   ,     1   ,     0   ,     0   \n",
            "    1   ,    -3   ,     1   ,     0   ,     1   ,     0   \n",
            "    1   ,     3   ,    -3   ,     0   ,     0   ,     1   \n",
            "\n",
            "    1   ,     3   ,    -3   ,     0   ,     0   ,     1   \n",
            "    1   ,    -3   ,     1   ,     0   ,     1   ,     0   \n",
            "    2   ,     1   ,    -1   ,     1   ,     0   ,     0   \n",
            "\n",
            "    1   ,     3   ,    -3   ,     0   ,     0   ,     1   \n",
            "    1   ,    -3   ,     1   ,     0   ,     1   ,     0   \n",
            "    2   ,     1   ,    -1   ,     1   ,     0   ,     0   \n",
            "\n",
            "    1   ,     3   ,    -3   ,     0   ,     0   ,     1   \n",
            "    0   ,    -6   ,     4   ,     0   ,     1   ,    -1   \n",
            "    2   ,     1   ,    -1   ,     1   ,     0   ,     0   \n",
            "\n",
            "    1   ,     3   ,    -3   ,     0   ,     0   ,     1   \n",
            "    0   ,     1   ,    -1   ,  -1/5   ,     0   ,   2/5   \n",
            "    0   ,    -6   ,     4   ,     0   ,     1   ,    -1   \n",
            "\n",
            "    1   ,     0   ,     0   ,   3/5   ,     0   ,  -1/5   \n",
            "    0   ,     1   ,    -1   ,  -1/5   ,     0   ,   2/5   \n",
            "    0   ,    -6   ,     4   ,     0   ,     1   ,    -1   \n",
            "\n",
            "    1   ,     0   ,     0   ,   3/5   ,     0   ,  -1/5   \n",
            "    0   ,     1   ,    -1   ,  -1/5   ,     0   ,   2/5   \n",
            "    0   ,    -6   ,     4   ,     0   ,     1   ,    -1   \n",
            "\n",
            "    1   ,     0   ,     0   ,   3/5   ,     0   ,  -1/5   \n",
            "    0   ,     1   ,    -1   ,  -1/5   ,     0   ,   2/5   \n",
            "    0   ,     0   ,     1   ,   3/5   ,  -1/2   , -7/10   \n",
            "\n",
            "    1   ,     0   ,     0   ,   3/5   ,     0   ,  -1/5   \n",
            "    0   ,     1   ,    -1   ,  -1/5   ,     0   ,   2/5   \n",
            "    0   ,     0   ,     1   ,   3/5   ,  -1/2   , -7/10   \n",
            "\n",
            "    1   ,     0   ,     0   ,   3/5   ,     0   ,  -1/5   \n",
            "    0   ,     1   ,     0   ,   2/5   ,  -1/2   , -3/10   \n",
            "    0   ,     0   ,     1   ,   3/5   ,  -1/2   , -7/10   \n",
            "\n",
            "    1   ,     0   ,     0   ,   3/5   ,     0   ,  -1/5   \n",
            "    0   ,     1   ,     0   ,   2/5   ,  -1/2   , -3/10   \n",
            "    0   ,     0   ,     1   ,   3/5   ,  -1/2   , -7/10   \n",
            "--------------------------\n",
            "\n",
            "  3/5   ,     0   ,  -1/5   \n",
            "  2/5   ,  -1/2   , -3/10   \n",
            "  3/5   ,  -1/2   , -7/10   \n"
          ]
        }
      ]
    }
  ]
}