{
  "nbformat": 4,
  "nbformat_minor": 0,
  "metadata": {
    "colab": {
      "provenance": []
    },
    "kernelspec": {
      "name": "python3",
      "display_name": "Python 3"
    },
    "language_info": {
      "name": "python"
    }
  },
  "cells": [
    {
      "cell_type": "code",
      "source": [
        "!pip install openai"
      ],
      "metadata": {
        "colab": {
          "base_uri": "https://localhost:8080/"
        },
        "id": "gbvP0NOM1DEv",
        "outputId": "140d4ef1-171e-4a4c-d018-6f08786e4ab4"
      },
      "execution_count": null,
      "outputs": [
        {
          "output_type": "stream",
          "name": "stdout",
          "text": [
            "Looking in indexes: https://pypi.org/simple, https://us-python.pkg.dev/colab-wheels/public/simple/\n",
            "Collecting openai\n",
            "  Downloading openai-0.25.0.tar.gz (44 kB)\n",
            "\u001b[K     |████████████████████████████████| 44 kB 1.8 MB/s \n",
            "\u001b[?25h  Installing build dependencies ... \u001b[?25l\u001b[?25hdone\n",
            "  Getting requirements to build wheel ... \u001b[?25l\u001b[?25hdone\n",
            "    Preparing wheel metadata ... \u001b[?25l\u001b[?25hdone\n",
            "Requirement already satisfied: openpyxl>=3.0.7 in /usr/local/lib/python3.8/dist-packages (from openai) (3.0.10)\n",
            "Requirement already satisfied: requests>=2.20 in /usr/local/lib/python3.8/dist-packages (from openai) (2.23.0)\n",
            "Collecting pandas-stubs>=1.1.0.11\n",
            "  Downloading pandas_stubs-1.5.2.221213-py3-none-any.whl (147 kB)\n",
            "\u001b[K     |████████████████████████████████| 147 kB 7.9 MB/s \n",
            "\u001b[?25hRequirement already satisfied: tqdm in /usr/local/lib/python3.8/dist-packages (from openai) (4.64.1)\n",
            "Requirement already satisfied: pandas>=1.2.3 in /usr/local/lib/python3.8/dist-packages (from openai) (1.3.5)\n",
            "Requirement already satisfied: typing-extensions in /usr/local/lib/python3.8/dist-packages (from openai) (4.4.0)\n",
            "Requirement already satisfied: numpy in /usr/local/lib/python3.8/dist-packages (from openai) (1.21.6)\n",
            "Requirement already satisfied: et-xmlfile in /usr/local/lib/python3.8/dist-packages (from openpyxl>=3.0.7->openai) (1.1.0)\n",
            "Requirement already satisfied: python-dateutil>=2.7.3 in /usr/local/lib/python3.8/dist-packages (from pandas>=1.2.3->openai) (2.8.2)\n",
            "Requirement already satisfied: pytz>=2017.3 in /usr/local/lib/python3.8/dist-packages (from pandas>=1.2.3->openai) (2022.6)\n",
            "Collecting types-pytz>=2022.1.1\n",
            "  Downloading types_pytz-2022.7.0.0-py3-none-any.whl (4.7 kB)\n",
            "Requirement already satisfied: six>=1.5 in /usr/local/lib/python3.8/dist-packages (from python-dateutil>=2.7.3->pandas>=1.2.3->openai) (1.15.0)\n",
            "Requirement already satisfied: chardet<4,>=3.0.2 in /usr/local/lib/python3.8/dist-packages (from requests>=2.20->openai) (3.0.4)\n",
            "Requirement already satisfied: certifi>=2017.4.17 in /usr/local/lib/python3.8/dist-packages (from requests>=2.20->openai) (2022.12.7)\n",
            "Requirement already satisfied: idna<3,>=2.5 in /usr/local/lib/python3.8/dist-packages (from requests>=2.20->openai) (2.10)\n",
            "Requirement already satisfied: urllib3!=1.25.0,!=1.25.1,<1.26,>=1.21.1 in /usr/local/lib/python3.8/dist-packages (from requests>=2.20->openai) (1.24.3)\n",
            "Building wheels for collected packages: openai\n",
            "  Building wheel for openai (PEP 517) ... \u001b[?25l\u001b[?25hdone\n",
            "  Created wheel for openai: filename=openai-0.25.0-py3-none-any.whl size=55880 sha256=a034bcff5e69e104281cf24dd833c5f1bc1904420c4d1da013fa3fe6bfd35caf\n",
            "  Stored in directory: /root/.cache/pip/wheels/4b/92/33/6f57c7aae0b16875267999a50570e81f15eecec577ebe05a2e\n",
            "Successfully built openai\n",
            "Installing collected packages: types-pytz, pandas-stubs, openai\n",
            "Successfully installed openai-0.25.0 pandas-stubs-1.5.2.221213 types-pytz-2022.7.0.0\n"
          ]
        }
      ]
    },
    {
      "cell_type": "markdown",
      "source": [
        "### 開發第一個chatGPT程式"
      ],
      "metadata": {
        "id": "3QWFzoi31YJe"
      }
    },
    {
      "cell_type": "code",
      "execution_count": null,
      "metadata": {
        "id": "4wOeu8ZXqLfD"
      },
      "outputs": [],
      "source": [
        "import openai\n",
        "\n",
        "openai.api_key = \"Your API key\"\n",
        "\n",
        "response = openai.Completion.create(\n",
        "  model=\"text-davinci-003\",\n",
        "  prompt=\"我想規劃一下三小時的資訊安全課程?\\n\",\n",
        "  temperature=0,\n",
        "  max_tokens=500,\n",
        "  top_p=1,\n",
        "  frequency_penalty=0.5,\n",
        "  presence_penalty=0\n",
        ")"
      ]
    },
    {
      "cell_type": "code",
      "source": [
        "response"
      ],
      "metadata": {
        "colab": {
          "base_uri": "https://localhost:8080/"
        },
        "id": "wtrh2N-72iK9",
        "outputId": "9401f09c-0086-4d4d-f195-36e8f5ea9d0c"
      },
      "execution_count": null,
      "outputs": [
        {
          "output_type": "execute_result",
          "data": {
            "text/plain": [
              "<OpenAIObject text_completion id=cmpl-6TPZQv1yzi0ZHJCj68qFaw8ajP6uf at 0x7f904e05dea0> JSON: {\n",
              "  \"choices\": [\n",
              "    {\n",
              "      \"finish_reason\": \"stop\",\n",
              "      \"index\": 0,\n",
              "      \"logprobs\": null,\n",
              "      \"text\": \"\\n1. \\u7b2c\\u4e00\\u5c0f\\u6642\\uff1a\\u8cc7\\u8a0a\\u5b89\\u5168\\u6982\\u8ad6 - \\u4ecb\\u7d39\\u8cc7\\u8a0a\\u5b89\\u5168\\u7684\\u57fa\\u672c\\u6982\\u5ff5\\uff0c\\u5305\\u62ec\\u5b89\\u5168\\u98a8\\u96aa\\u3001\\u5a01\\u8105\\u3001\\u9632\\u79a6\\u7b56\\u7565\\u7b49\\u3002\\n\\n2. \\u7b2c\\u4e8c\\u5c0f\\u6642\\uff1a\\u7db2\\u8def\\u5b89\\u5168 - \\u4ecb\\u7d39\\u5982\\u4f55\\u4fdd\\u8b77\\u7db2\\u8def\\u548c\\u96fb\\u5b50\\u90f5\\u4ef6\\u7684\\u5b89\\u5168\\uff0c\\u5305\\u62ec\\u9632\\u6b62\\u60e1\\u610f\\u8edf\\u9ad4\\u3001\\u4fdd\\u5bc6\\u6027\\u3001\\u53ef\\u7528\\u6027\\u548c\\u53ef\\u9760\\u6027\\u3002\\n\\n3. \\u7b2c\\u4e09\\u5c0f\\u6642\\uff1a\\u5bc6\\u78bc\\u5b78 - \\u4ecb\\u7d39\\u5982\\u4f55\\u4f7f\\u7528\\u52a0\\u5bc6\\u4f86\\u4fdd\\u8b77\\u6578\\u64da\\uff0c\\u5305\\u62ec\\u52a0\\u5bc6\\u539f\\u7406\\u3001\\u52a0\\u5bc6\\u65b9\\u6cd5\\u548c\\u52a0\\u5bc6\\u5de5\\u5177\\u3002\"\n",
              "    }\n",
              "  ],\n",
              "  \"created\": 1672467824,\n",
              "  \"id\": \"cmpl-6TPZQv1yzi0ZHJCj68qFaw8ajP6uf\",\n",
              "  \"model\": \"text-davinci-003\",\n",
              "  \"object\": \"text_completion\",\n",
              "  \"usage\": {\n",
              "    \"completion_tokens\": 295,\n",
              "    \"prompt_tokens\": 34,\n",
              "    \"total_tokens\": 329\n",
              "  }\n",
              "}"
            ]
          },
          "metadata": {},
          "execution_count": 4
        }
      ]
    },
    {
      "cell_type": "code",
      "source": [
        "print(response[\"choices\"][0][\"text\"].strip())"
      ],
      "metadata": {
        "colab": {
          "base_uri": "https://localhost:8080/"
        },
        "id": "7mmjcpIc2j6m",
        "outputId": "906e2300-9590-4232-82e2-f8440b5a7093"
      },
      "execution_count": null,
      "outputs": [
        {
          "output_type": "stream",
          "name": "stdout",
          "text": [
            "1. 第一小時：資訊安全概論 - 介紹資訊安全的基本概念，包括安全風險、威脅、防禦策略等。\n",
            "\n",
            "2. 第二小時：網路安全 - 介紹如何保護網路和電子郵件的安全，包括防止惡意軟體、保密性、可用性和可靠性。\n",
            "\n",
            "3. 第三小時：密碼學 - 介紹如何使用加密來保護數據，包括加密原理、加密方法和加密工具。\n"
          ]
        }
      ]
    },
    {
      "cell_type": "markdown",
      "source": [
        "###簡易聊天程式"
      ],
      "metadata": {
        "id": "NyW4z_Cz3WI8"
      }
    },
    {
      "cell_type": "code",
      "source": [
        "import openai\n",
        "\n",
        "openai.api_key = \"Your api key\"\n",
        "Question = input(\"請輸入你的問題？\")\n",
        "\n",
        "if Question != \"\":\n",
        "    response = openai.Completion.create(\n",
        "      model=\"text-davinci-003\",\n",
        "      prompt=Question,\n",
        "      temperature=0,\n",
        "      max_tokens=500,\n",
        "      top_p=1,\n",
        "      frequency_penalty=0.5,\n",
        "      presence_penalty=0\n",
        "    )\n",
        "    print(response[\"choices\"][0][\"text\"].strip())"
      ],
      "metadata": {
        "colab": {
          "base_uri": "https://localhost:8080/"
        },
        "id": "92PUqTbF238V",
        "outputId": "6c8abc71-b4bd-40fb-81f5-63c883d3a993"
      },
      "execution_count": null,
      "outputs": [
        {
          "output_type": "stream",
          "name": "stdout",
          "text": [
            "請輸入你的問題？在高雄元旦去哪裡玩\n",
            "高雄元旦有很多好玩的景點，例如：\n",
            "\n",
            "1. 高雄85大樓：位於高雄市中心的85大樓是一座令人印象深刻的地標建築，可以俯瞰整個高雄市。\n",
            "\n",
            "2. 駁二藝術特區：位於高雄市前金區的駁二藝術特區是一個充滿藝術氣息的地方，有各式各樣的展覽、表演、工作坊等。\n",
            "\n",
            "3. 六合夜市：位於高雄市前金區的六合夜市是一個古老而又熱鬧的夜市，有各式各樣的小吃、美食、手信等。\n",
            "\n",
            "4. 旗津海水浴場：位於旗津半島上的旗津海水浴場是一座令人流連忘返的海水浴場，可以眺望整片大海。\n",
            "\n",
            "5. 六龜都會公園：位於六龜區的都會公園是一座宏偉壯觀的公園，裡\n"
          ]
        }
      ]
    },
    {
      "cell_type": "code",
      "source": [
        "def askchatGPT(Question):\n",
        "    response = openai.Completion.create(\n",
        "      model=\"text-davinci-003\",\n",
        "      prompt=Question,\n",
        "      temperature=0,\n",
        "      max_tokens=500,\n",
        "      top_p=1,\n",
        "      frequency_penalty=0.5,\n",
        "      presence_penalty=0\n",
        "    )\n",
        "    return response[\"choices\"][0][\"text\"].strip()"
      ],
      "metadata": {
        "id": "TNepRNnb41QT"
      },
      "execution_count": null,
      "outputs": []
    },
    {
      "cell_type": "code",
      "source": [
        "Question = input(\"請輸入你的問題？\")\n",
        "print(askchatGPT(Question))"
      ],
      "metadata": {
        "colab": {
          "base_uri": "https://localhost:8080/"
        },
        "id": "XUrrmgs75dqz",
        "outputId": "a5238e0b-4717-4050-8c24-3cd4511e7a9f"
      },
      "execution_count": null,
      "outputs": [
        {
          "output_type": "stream",
          "name": "stdout",
          "text": [
            "請輸入你的問題？元旦升旗地點\n",
            "元旦升旗地點一般是政府機關、學校、軍事單位等公共場所，例如台北市政府前廣場、台中市政府前廣場、台南市政府前廣場等。\n"
          ]
        }
      ]
    },
    {
      "cell_type": "code",
      "source": [
        "#!pip install gradio"
      ],
      "metadata": {
        "id": "3tt4vy1v5lm-"
      },
      "execution_count": null,
      "outputs": []
    },
    {
      "cell_type": "code",
      "source": [
        "import gradio as gr\n",
        "#create interface object\n",
        "gui = gr.Interface(fn=askchatGPT, #callable function\n",
        "                   inputs=\"text\", #input format\n",
        "                   outputs=\"text\") #output format\n",
        "#display the interface\n",
        "gui.launch(share=True)\n"
      ],
      "metadata": {
        "colab": {
          "base_uri": "https://localhost:8080/",
          "height": 591
        },
        "id": "2Pg0olIH6OE0",
        "outputId": "d5969711-e285-484d-9c38-6b6e49173925"
      },
      "execution_count": null,
      "outputs": [
        {
          "output_type": "stream",
          "name": "stdout",
          "text": [
            "Colab notebook detected. To show errors in colab notebook, set debug=True in launch()\n",
            "Running on public URL: https://c1b0b521-b70e-478d.gradio.live\n",
            "\n",
            "This share link expires in 72 hours. For free permanent hosting and GPU upgrades (NEW!), check out Spaces: https://huggingface.co/spaces\n"
          ]
        },
        {
          "output_type": "display_data",
          "data": {
            "text/plain": [
              "<IPython.core.display.HTML object>"
            ],
            "text/html": [
              "<div><iframe src=\"https://c1b0b521-b70e-478d.gradio.live\" width=\"100%\" height=\"500\" allow=\"autoplay; camera; microphone; clipboard-read; clipboard-write;\" frameborder=\"0\" allowfullscreen></iframe></div>"
            ]
          },
          "metadata": {}
        },
        {
          "output_type": "execute_result",
          "data": {
            "text/plain": []
          },
          "metadata": {},
          "execution_count": 13
        }
      ]
    },
    {
      "cell_type": "code",
      "source": [],
      "metadata": {
        "id": "-JfU6wfI9Wuu"
      },
      "execution_count": null,
      "outputs": []
    }
  ]
}