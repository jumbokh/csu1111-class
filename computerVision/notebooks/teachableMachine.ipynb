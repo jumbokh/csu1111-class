{
  "nbformat": 4,
  "nbformat_minor": 0,
  "metadata": {
    "colab": {
      "provenance": [],
      "authorship_tag": "ABX9TyOhWBkb22BXkXdh6d0k/EFa",
      "include_colab_link": true
    },
    "kernelspec": {
      "name": "python3",
      "display_name": "Python 3"
    },
    "language_info": {
      "name": "python"
    }
  },
  "cells": [
    {
      "cell_type": "markdown",
      "metadata": {
        "id": "view-in-github",
        "colab_type": "text"
      },
      "source": [
        "<a href=\"https://colab.research.google.com/github/jumbokh/csu1111-class/blob/main/computerVision/notebooks/teachableMachine.ipynb\" target=\"_parent\"><img src=\"https://colab.research.google.com/assets/colab-badge.svg\" alt=\"Open In Colab\"/></a>"
      ]
    },
    {
      "cell_type": "code",
      "execution_count": null,
      "metadata": {
        "id": "edPBnZuIZziU"
      },
      "outputs": [],
      "source": [
        "import cv2\n",
        "import numpy as np\n",
        "from keras.models import load_model\n",
        "\n",
        "# Load the model\n",
        "model = load_model('keras_model.h5')\n",
        "\n",
        "# CAMERA can be 0 or 1 based on default camera of your computer.\n",
        "camera = cv2.VideoCapture(0)\n",
        "\n",
        "# Grab the labels from the labels.txt file. This will be used later.\n",
        "labels = open('labels.txt', 'r').readlines()\n",
        "\n",
        "while True:\n",
        "    # Grab the webcameras image.\n",
        "    ret, image = camera.read()\n",
        "    # Resize the raw image into (224-height,224-width) pixels.\n",
        "    image = cv2.resize(image, (224, 224), interpolation=cv2.INTER_AREA)\n",
        "    # Show the image in a window\n",
        "    cv2.imshow('Webcam Image', image)\n",
        "    # Make the image a numpy array and reshape it to the models input shape.\n",
        "    image = np.asarray(image, dtype=np.float32).reshape(1, 224, 224, 3)\n",
        "    # Normalize the image array\n",
        "    image = (image / 127.5) - 1\n",
        "    # Have the model predict what the current image is. Model.predict\n",
        "    # returns an array of percentages. Example:[0.2,0.8] meaning its 20% sure\n",
        "    # it is the first label and 80% sure its the second label.\n",
        "    probabilities = model.predict(image)\n",
        "    # Print what the highest value probabilitie label\n",
        "    print(labels[np.argmax(probabilities)])\n",
        "    # Listen to the keyboard for presses.\n",
        "    keyboard_input = cv2.waitKey(1)\n",
        "    # 27 is the ASCII for the esc key on your keyboard.\n",
        "    if keyboard_input == 27:\n",
        "        break\n",
        "\n",
        "camera.release()\n",
        "cv2.destroyAllWindows()\n"
      ]
    }
  ]
}